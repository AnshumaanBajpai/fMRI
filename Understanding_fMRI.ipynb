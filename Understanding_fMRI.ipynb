{
 "cells": [
  {
   "cell_type": "markdown",
   "metadata": {},
   "source": [
    "# Understanding fMRI data\n",
    "\n",
    "#### This notebook is to take a look at the fMRI data and get an overview of its nature and dimensionality. The aim is to employ some form of neural network based approaches to the data to extract interesting features from it.\n",
    "---Anshumaan Bajpai\n",
    "\n"
   ]
  },
  {
   "cell_type": "markdown",
   "metadata": {
    "collapsed": true
   },
   "source": [
    "### 1) Importing the key libraries"
   ]
  },
  {
   "cell_type": "code",
   "execution_count": 1,
   "metadata": {
    "collapsed": false
   },
   "outputs": [
    {
     "name": "stderr",
     "output_type": "stream",
     "text": [
      "C:\\ProgramData\\Anaconda2\\lib\\site-packages\\scipy\\integrate\\quadpack.py:356: IntegrationWarning: Extremely bad integrand behavior occurs at some points of the\n",
      "  integration interval.\n",
      "  warnings.warn(msg, IntegrationWarning)\n"
     ]
    }
   ],
   "source": [
    "import os\n",
    "import numpy as np\n",
    "from mvpa2.tutorial_suite import *"
   ]
  },
  {
   "cell_type": "markdown",
   "metadata": {
    "collapsed": true
   },
   "source": [
    "### 2) Sample datasets"
   ]
  },
  {
   "cell_type": "code",
   "execution_count": 5,
   "metadata": {
    "collapsed": false
   },
   "outputs": [
    {
     "name": "stdout",
     "output_type": "stream",
     "text": [
      "Shape:  (4L, 3L)\n",
      "Dataset Length:  4\n",
      "Number of features per sample:  3\n",
      "Number of samples: \n",
      "[[ 1  1 -1]\n",
      " [ 2  0  0]\n",
      " [ 3  1  1]\n",
      " [ 4  0 -1]]\n"
     ]
    }
   ],
   "source": [
    "# Simple data\n",
    "data = [[  1,  1, -1],\n",
    "        [  2,  0,  0],\n",
    "        [  3,  1,  1],\n",
    "        [  4,  0, -1]]\n",
    "\n",
    "# Converting the data into py-mvpa dataset class\n",
    "ds = Dataset(data)\n",
    "print \"Shape: \", ds.shape\n",
    "print \"Dataset Length: \",len(ds)\n",
    "print \"Number of features per sample: \", ds.nfeatures\n",
    "print \"Number of samples: \"\n",
    "print ds.samples"
   ]
  },
  {
   "cell_type": "code",
   "execution_count": 6,
   "metadata": {
    "collapsed": false
   },
   "outputs": [
    {
     "name": "stdout",
     "output_type": "stream",
     "text": [
      "One dimension vector:  (4L, 1L)\n"
     ]
    }
   ],
   "source": [
    "# Now we look at a single dimension vector\n",
    "# A column vector is basically a sample set with one feature each\n",
    "one_d = [ 0, 1, 2, 3 ]\n",
    "one_ds = Dataset(one_d)\n",
    "print \"One dimension vector: \", one_ds.shape"
   ]
  },
  {
   "cell_type": "markdown",
   "metadata": {},
   "source": [
    "#### If we have more than 2 dimensions of the dataset, then the second dimension becomes the features and the dimension beyond 2nd becomes the dimensions of each feature"
   ]
  },
  {
   "cell_type": "code",
   "execution_count": 8,
   "metadata": {
    "collapsed": false
   },
   "outputs": [
    {
     "name": "stdout",
     "output_type": "stream",
     "text": [
      "Shape of Multidimensional dataset:  (3L, 4L, 2L, 3L)\n",
      "Number of features:  4\n"
     ]
    },
    {
     "data": {
      "text/plain": [
       "Dataset(array([[[[ 0.86951905,  0.67280464,  0.54327308],\n",
       "         [ 0.21318062,  0.68254188,  0.85140696]],\n",
       "\n",
       "        [[ 0.94294783,  0.76368468,  0.41009712],\n",
       "         [ 0.93492653,  0.48097633,  0.28027629]],\n",
       "\n",
       "        [[ 0.95608447,  0.48293506,  0.85140577],\n",
       "         [ 0.96382768,  0.77284312,  0.38017674]],\n",
       "\n",
       "        [[ 0.3366698 ,  0.50250026,  0.6762115 ],\n",
       "         [ 0.38722095,  0.60546829,  0.97012871]]],\n",
       "\n",
       "\n",
       "       [[[ 0.22749869,  0.61474788,  0.99515712],\n",
       "         [ 0.98840305,  0.94064435,  0.88639495]],\n",
       "\n",
       "        [[ 0.26553076,  0.29619125,  0.30163137],\n",
       "         [ 0.11180627,  0.20437163,  0.88806421]],\n",
       "\n",
       "        [[ 0.32631951,  0.19824717,  0.79880561],\n",
       "         [ 0.3639337 ,  0.50310994,  0.11523923]],\n",
       "\n",
       "        [[ 0.69904645,  0.45991945,  0.07912541],\n",
       "         [ 0.36155155,  0.33168133,  0.29656911]]],\n",
       "\n",
       "\n",
       "       [[[ 0.98165581,  0.15642412,  0.7150341 ],\n",
       "         [ 0.98623699,  0.17413419,  0.63249755]],\n",
       "\n",
       "        [[ 0.59906721,  0.96657221,  0.61361701],\n",
       "         [ 0.7207437 ,  0.27861351,  0.05690807]],\n",
       "\n",
       "        [[ 0.21544629,  0.15556931,  0.66015761],\n",
       "         [ 0.45254247,  0.55993397,  0.97109485]],\n",
       "\n",
       "        [[ 0.50297588,  0.14297759,  0.30543522],\n",
       "         [ 0.76467343,  0.09667403,  0.06754605]]]]), sa=SampleAttributesCollection(items=[]), fa=FeatureAttributesCollection(items=[]), a=DatasetAttributesCollection(items=[]))"
      ]
     },
     "execution_count": 8,
     "metadata": {},
     "output_type": "execute_result"
    }
   ],
   "source": [
    "m_ds = Dataset(np.random.random((3, 4, 2, 3)))\n",
    "print \"Shape of Multidimensional dataset: \", m_ds.shape\n",
    "print \"Number of features: \", m_ds.nfeatures\n",
    "m_ds"
   ]
  },
  {
   "cell_type": "markdown",
   "metadata": {},
   "source": [
    "#### In the above, we have a 3 sample point with 4 features each. Each feature is a 2 by 3 matrix"
   ]
  },
  {
   "cell_type": "code",
   "execution_count": null,
   "metadata": {
    "collapsed": true
   },
   "outputs": [],
   "source": []
  }
 ],
 "metadata": {
  "kernelspec": {
   "display_name": "Python 2",
   "language": "python",
   "name": "python2"
  },
  "language_info": {
   "codemirror_mode": {
    "name": "ipython",
    "version": 2
   },
   "file_extension": ".py",
   "mimetype": "text/x-python",
   "name": "python",
   "nbconvert_exporter": "python",
   "pygments_lexer": "ipython2",
   "version": "2.7.13"
  }
 },
 "nbformat": 4,
 "nbformat_minor": 2
}
